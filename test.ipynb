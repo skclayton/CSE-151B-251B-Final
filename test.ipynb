{
 "cells": [
  {
   "cell_type": "code",
   "execution_count": 4,
   "metadata": {},
   "outputs": [
    {
     "ename": "ModuleNotFoundError",
     "evalue": "No module named 'arguments'",
     "output_type": "error",
     "traceback": [
      "\u001b[0;31m---------------------------------------------------------------------------\u001b[0m",
      "\u001b[0;31mModuleNotFoundError\u001b[0m                       Traceback (most recent call last)",
      "Cell \u001b[0;32mIn[4], line 4\u001b[0m\n\u001b[1;32m      2\u001b[0m \u001b[38;5;28;01mfrom\u001b[39;00m \u001b[38;5;21;01mtorch\u001b[39;00m \u001b[38;5;28;01mimport\u001b[39;00m nn\n\u001b[1;32m      3\u001b[0m \u001b[38;5;28;01mfrom\u001b[39;00m \u001b[38;5;21;01mtqdm\u001b[39;00m \u001b[38;5;28;01mimport\u001b[39;00m tqdm \u001b[38;5;28;01mas\u001b[39;00m progress_bar\n\u001b[0;32m----> 4\u001b[0m \u001b[38;5;28;01mfrom\u001b[39;00m \u001b[38;5;21;01marguments\u001b[39;00m \u001b[38;5;28;01mimport\u001b[39;00m params\n\u001b[1;32m      5\u001b[0m \u001b[38;5;28;01mfrom\u001b[39;00m \u001b[38;5;21;01mutils\u001b[39;00m \u001b[38;5;28;01mimport\u001b[39;00m setup_gpus, set_seed\n\u001b[1;32m      6\u001b[0m \u001b[38;5;28;01mfrom\u001b[39;00m \u001b[38;5;21;01mmodelPrediction\u001b[39;00m \u001b[38;5;28;01mimport\u001b[39;00m PredictionModel\n",
      "\u001b[0;31mModuleNotFoundError\u001b[0m: No module named 'arguments'"
     ]
    }
   ],
   "source": [
    "import torch\n",
    "from torch import nn\n",
    "from tqdm import tqdm as progress_bar\n",
    "from arguments import params\n",
    "from utils import setup_gpus, set_seed\n",
    "from modelPrediction import PredictionModel\n",
    "from torch.utils.data import DataLoader\n",
    "import loadData\n",
    "from transformers import AutoImageProcessor, NatConfig,NatModel,NatForImageClassification\n"
   ]
  },
  {
   "cell_type": "code",
   "execution_count": 2,
   "metadata": {},
   "outputs": [],
   "source": [
    "confi = NatConfig()"
   ]
  },
  {
   "cell_type": "code",
   "execution_count": 3,
   "metadata": {},
   "outputs": [
    {
     "data": {
      "text/plain": [
       "NatConfig {\n",
       "  \"attention_probs_dropout_prob\": 0.0,\n",
       "  \"depths\": [\n",
       "    3,\n",
       "    4,\n",
       "    6,\n",
       "    5\n",
       "  ],\n",
       "  \"drop_path_rate\": 0.1,\n",
       "  \"embed_dim\": 64,\n",
       "  \"hidden_act\": \"gelu\",\n",
       "  \"hidden_dropout_prob\": 0.0,\n",
       "  \"hidden_size\": 512,\n",
       "  \"initializer_range\": 0.02,\n",
       "  \"kernel_size\": 7,\n",
       "  \"layer_norm_eps\": 1e-05,\n",
       "  \"layer_scale_init_value\": 0.0,\n",
       "  \"mlp_ratio\": 3.0,\n",
       "  \"model_type\": \"nat\",\n",
       "  \"num_channels\": 3,\n",
       "  \"num_heads\": [\n",
       "    2,\n",
       "    4,\n",
       "    8,\n",
       "    16\n",
       "  ],\n",
       "  \"num_layers\": 4,\n",
       "  \"out_features\": [\n",
       "    \"stage4\"\n",
       "  ],\n",
       "  \"out_indices\": [\n",
       "    4\n",
       "  ],\n",
       "  \"patch_size\": 4,\n",
       "  \"qkv_bias\": true,\n",
       "  \"stage_names\": [\n",
       "    \"stem\",\n",
       "    \"stage1\",\n",
       "    \"stage2\",\n",
       "    \"stage3\",\n",
       "    \"stage4\"\n",
       "  ],\n",
       "  \"transformers_version\": \"4.38.2\"\n",
       "}"
      ]
     },
     "execution_count": 3,
     "metadata": {},
     "output_type": "execute_result"
    }
   ],
   "source": [
    "confi"
   ]
  },
  {
   "cell_type": "code",
   "execution_count": null,
   "metadata": {},
   "outputs": [],
   "source": []
  }
 ],
 "metadata": {
  "kernelspec": {
   "display_name": "Python 3",
   "language": "python",
   "name": "python3"
  },
  "language_info": {
   "name": "python",
   "version": "3.10.12"
  }
 },
 "nbformat": 4,
 "nbformat_minor": 2
}
